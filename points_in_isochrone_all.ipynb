{
 "cells": [
  {
   "cell_type": "markdown",
   "id": "daba2c4b-f7d4-410f-b549-90728a11d7d5",
   "metadata": {},
   "source": [
    "# Counting the number of points in each isochrone"
   ]
  },
  {
   "cell_type": "code",
   "execution_count": null,
   "id": "76bba017-0d91-498f-9ff4-be019a1862e3",
   "metadata": {},
   "outputs": [],
   "source": [
    "# import libraries\n",
    "import geopandas as gpd\n",
    "import os\n",
    "import pandas as pd"
   ]
  },
  {
   "cell_type": "code",
   "execution_count": null,
   "id": "cdc0ed9c-3a26-4d26-88b6-dd6a3dfe56cd",
   "metadata": {},
   "outputs": [],
   "source": [
    "# Define the folder paths\n",
    "isochrone_folder = \"C:/Users/kbons/accessibility/Orleans/car_a_insee\"\n",
    "points_file = \"C:/Users/kbons/accessibility/project_report/BPE_Orleans domains/transport_and_travel.csv\""
   ]
  },
  {
   "cell_type": "code",
   "execution_count": null,
   "id": "cd2f38b9-4d69-4b42-ab50-83c200276cb5",
   "metadata": {},
   "outputs": [],
   "source": [
    "# Specify the isochrone values of interest\n",
    "target_isochrones = [600, 1200, 1800, 2400, 3000, 3600]"
   ]
  },
  {
   "cell_type": "code",
   "execution_count": null,
   "id": "f2f3083e-7389-47f4-802b-1fc0e23f939c",
   "metadata": {},
   "outputs": [],
   "source": [
    "# Define values for the new fields\n",
    "domain = \"Transport and Travel\"  # Replace with the desired domain \n",
    "mode = \"Car\"      # Replace with the desired mode "
   ]
  },
  {
   "cell_type": "code",
   "execution_count": null,
   "id": "ae5a7629-57a7-4f10-9d64-9bd22eb8cbb8",
   "metadata": {},
   "outputs": [],
   "source": [
    "# Load the points shapefile once\n",
    "points = pd.read_csv(points_file)"
   ]
  },
  {
   "cell_type": "code",
   "execution_count": null,
   "id": "cc0a47f5-a376-4c67-8855-52cba5d4d42e",
   "metadata": {},
   "outputs": [],
   "source": [
    "# convert the points to a geodataframe\n",
    "points = gpd.GeoDataFrame(\n",
    "    points, \n",
    "    geometry=gpd.points_from_xy(points['LONGITUDE'], points['LATITUDE']),\n",
    "    crs=\"EPSG:4326\" \n",
    ")"
   ]
  },
  {
   "cell_type": "code",
   "execution_count": null,
   "id": "57282204-73a7-40f0-8d64-d9547a64953d",
   "metadata": {},
   "outputs": [],
   "source": [
    "# Initialize a DataFrame to store results\n",
    "all_results = []"
   ]
  },
  {
   "cell_type": "code",
   "execution_count": null,
   "id": "f3f9ed79-afbf-4a68-9d86-36e873b0b2c1",
   "metadata": {},
   "outputs": [],
   "source": [
    "# Loop through each shapefile in the isochrone folder\n",
    "for filename in os.listdir(isochrone_folder):\n",
    "    if filename.endswith(\".shp\"):\n",
    "        isochrone_path = os.path.join(isochrone_folder, filename)\n",
    "\n",
    "        try:\n",
    "            # Load the isochrone shapefile\n",
    "            isochrones = gpd.read_file(isochrone_path)\n",
    "\n",
    "            # Ensure the isochrones have a CRS defined; set a default if missing\n",
    "            if isochrones.crs is None:\n",
    "                isochrones = isochrones.set_crs(\"EPSG:4326\")  # Replace \"EPSG:4326\" with the correct CRS if known\n",
    "\n",
    "            # Ensure CRS matches\n",
    "            if isochrones.crs != points.crs:\n",
    "                isochrones = isochrones.to_crs(points.crs)\n",
    "\n",
    "            # Filter isochrones to only keep those with the target values\n",
    "            filtered_isochrones = isochrones[isochrones['time'].isin(target_isochrones)]\n",
    "\n",
    "            # Skip if no relevant isochrones are found in this file\n",
    "            if filtered_isochrones.empty:\n",
    "                continue\n",
    "\n",
    "            # Perform spatial join\n",
    "            points_within_isochrones = gpd.sjoin(points, filtered_isochrones, how=\"inner\", predicate=\"within\")\n",
    "\n",
    "            # Modify the filename to remove the first two and last four characters\n",
    "            adjusted_filename = filename[2:-4]\n",
    "\n",
    "            # Add columns for domain, mode, and adjusted filename\n",
    "            points_within_isochrones[\"isochrone_file\"] = adjusted_filename\n",
    "            points_within_isochrones[\"domain\"] = domain\n",
    "            points_within_isochrones[\"mode\"] = mode\n",
    "\n",
    "            # select columns from \"points_within_isochrones\" and store in a new DataFrame\n",
    "            results = points_within_isochrones[[\n",
    "                \"isochrone_file\", \"mode\", \"domain\", \"time\", \"LATITUDE\", \"LONGITUDE\"\n",
    "            ]]\n",
    "\n",
    "            # Group by time to get counts of points\n",
    "            point_counts = results.groupby(\n",
    "                [\"isochrone_file\", \"mode\", \"domain\", \"time\"]\n",
    "            ).size().reset_index(name=\"point_count\")\n",
    "\n",
    "            # Merge back with results to associate counts with each point row\n",
    "            final_data = pd.merge(\n",
    "                results, point_counts, on=[\"isochrone_file\", \"mode\", \"domain\", \"time\"]\n",
    "            )\n",
    "\n",
    "            # Append to the main result list\n",
    "            all_results.append(final_data)\n",
    "\n",
    "        except Exception as e:\n",
    "            print(f\"Error processing {filename}: {e}\")\n",
    "            continue\n",
    "\n"
   ]
  },
  {
   "cell_type": "code",
   "execution_count": null,
   "id": "75f9c9dc-4ead-4978-b7fa-cf09b26acf8d",
   "metadata": {},
   "outputs": [],
   "source": [
    "# Loop through each shapefile in the isochrone folder\n",
    "for filename in os.listdir(isochrone_folder):\n",
    "    if filename.endswith(\".shp\"):\n",
    "        isochrone_path = os.path.join(isochrone_folder, filename)\n",
    "\n",
    "        try:\n",
    "            # Load the isochrone shapefile\n",
    "            isochrones = gpd.read_file(isochrone_path)\n",
    "\n",
    "            # Ensure the isochrones have a CRS defined; set a default if missing\n",
    "            if isochrones.crs is None:\n",
    "                isochrones = isochrones.set_crs(\"EPSG:4326\")  # Replace \"EPSG:4326\" with the correct CRS if known\n",
    "\n",
    "            # Ensure CRS matches\n",
    "            if isochrones.crs != points.crs:\n",
    "                isochrones = isochrones.to_crs(points.crs)\n",
    "\n",
    "            # Filter isochrones to only keep those with the target values\n",
    "            # Adjust the attribute name (e.g., \"value\") to match your shapefile's column name\n",
    "            filtered_isochrones = isochrones[isochrones['time'].isin(target_isochrones)]\n",
    "\n",
    "            # Skip if no relevant isochrones are found in this file\n",
    "            if filtered_isochrones.empty:\n",
    "                continue\n",
    "\n",
    "            # Perform spatial join\n",
    "            points_within_isochrones = gpd.sjoin(points, filtered_isochrones, how=\"inner\", predicate=\"within\")\n",
    "\n",
    "            # Group the results and count the points per isochrone\n",
    "            point_counts = points_within_isochrones.groupby(\"time\").size().reset_index(name=\"point_count\")\n",
    "            \n",
    "            # Modify the filename to remove the first two and last four characters\n",
    "            adjusted_filename = filename[2:-4]\n",
    "            \n",
    "            # Add the adjusted filename, domain, and mode to the DataFrame to the results for context\n",
    "            point_counts[\"isochrone_file\"] = adjusted_filename\n",
    "            point_counts[\"domain\"] = domain\n",
    "            point_counts[\"mode\"] = mode\n",
    "           \n",
    "\n",
    "\n",
    "\n",
    "            \n",
    "            # Reorder the columns\n",
    "            #point_counts = point_counts[[\"isochrone_file\", \"mode\", \"domain\", \"time\", \"point_count\"]]\n",
    "\n",
    "            # Append to the main result list\n",
    "            all_results.append(point_counts)\n",
    "\n",
    "        except Exception as e:\n",
    "            print(f\"Error processing {filename}: {e}\")\n",
    "            continue"
   ]
  },
  {
   "cell_type": "code",
   "execution_count": null,
   "id": "c9fd5652-4f55-419d-9761-652d97071950",
   "metadata": {},
   "outputs": [],
   "source": [
    "# Combine all results into a single DataFrame\n",
    "if all_results:\n",
    "    final_results = pd.concat(all_results, ignore_index=True)\n",
    "\n",
    "    # Save to a CSV file\n",
    "    final_results.to_csv(\"C:/Users/kbons/accessibility/project_report/points_in_isochrone_Orleans/car_transport_and_travel_ed.csv\", index=False)\n",
    "\n",
    "    print(\"Processing complete. Results saved to output.csv\")\n",
    "else:\n",
    "    print(\"No matching isochrones found or no valid data processed.\")"
   ]
  }
 ],
 "metadata": {
  "kernelspec": {
   "display_name": "Python 3 (ipykernel)",
   "language": "python",
   "name": "python3"
  },
  "language_info": {
   "codemirror_mode": {
    "name": "ipython",
    "version": 3
   },
   "file_extension": ".py",
   "mimetype": "text/x-python",
   "name": "python",
   "nbconvert_exporter": "python",
   "pygments_lexer": "ipython3",
   "version": "3.12.5"
  }
 },
 "nbformat": 4,
 "nbformat_minor": 5
}
